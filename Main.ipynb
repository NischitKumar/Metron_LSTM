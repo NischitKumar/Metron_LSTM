{
  "nbformat": 4,
  "nbformat_minor": 0,
  "metadata": {
    "colab": {
      "provenance": []
    },
    "kernelspec": {
      "name": "python3",
      "display_name": "Python 3"
    },
    "language_info": {
      "name": "python"
    }
  },
  "cells": [
    {
      "cell_type": "markdown",
      "source": [
        "## Importing Libraries"
      ],
      "metadata": {
        "id": "p77fzlFtQ-oq"
      }
    },
    {
      "cell_type": "code",
      "source": [
        "import pandas as pd\n",
        "import numpy as np\n",
        "import tensorflow as tf\n",
        "import matplotlib.pyplot as plt\n",
        "from tensorflow.keras.models import Sequential\n",
        "from tensorflow.keras.layers import LSTM, Dense, Dropout"
      ],
      "metadata": {
        "id": "SSXeiQjzRAeJ"
      },
      "execution_count": null,
      "outputs": []
    },
    {
      "cell_type": "markdown",
      "source": [
        "## Data Preprocessing"
      ],
      "metadata": {
        "id": "QZsvglQzQsFY"
      }
    },
    {
      "cell_type": "markdown",
      "source": [
        "### Importing The Dataset"
      ],
      "metadata": {
        "id": "UOxIjWEiVMvm"
      }
    },
    {
      "cell_type": "code",
      "execution_count": null,
      "metadata": {
        "id": "YBj8hAkBQfM7"
      },
      "outputs": [],
      "source": [
        "dataset_train = pd.read_csv('File_Name.csv')\n",
        "dataset_train"
      ]
    },
    {
      "cell_type": "markdown",
      "source": [
        "### Normalizing The Given Data"
      ],
      "metadata": {
        "id": "H7fSTkXhVGeW"
      }
    },
    {
      "cell_type": "code",
      "source": [
        "from sklearn.preprocessing import MinMaxScaler\n",
        "mms = MinMaxScaler(feature_range = (0, 1))\n",
        "training_set_scaled = mms.transform(dataset_train)\n",
        "training_set_scaled"
      ],
      "metadata": {
        "id": "SNh7qGQ2QuXz"
      },
      "execution_count": null,
      "outputs": []
    },
    {
      "cell_type": "markdown",
      "source": [
        "## Building The Metron-LSTM Model\n"
      ],
      "metadata": {
        "id": "-uA2bC-9Rm9O"
      }
    },
    {
      "cell_type": "code",
      "source": [],
      "metadata": {
        "id": "0N9mOp5CRs1b"
      },
      "execution_count": null,
      "outputs": []
    },
    {
      "cell_type": "markdown",
      "source": [
        "## Backtesting The Strategy"
      ],
      "metadata": {
        "id": "n0rTgL1nR7xf"
      }
    },
    {
      "cell_type": "code",
      "source": [],
      "metadata": {
        "id": "XBZDJHffRvCC"
      },
      "execution_count": null,
      "outputs": []
    },
    {
      "cell_type": "markdown",
      "source": [
        "## Perfomance Evaluation"
      ],
      "metadata": {
        "id": "vuwhKoHJRukb"
      }
    },
    {
      "cell_type": "markdown",
      "source": [
        "### RMSE"
      ],
      "metadata": {
        "id": "MbE9AvQ6SJF9"
      }
    },
    {
      "cell_type": "code",
      "source": [
        "from sklearn.metrics import root_mean_squared_error\n",
        "root_mean_squared_error(dataset_train.iloc[].values, dataset_test.iloc[].values)"
      ],
      "metadata": {
        "id": "2GZ9Zr7MSDo3"
      },
      "execution_count": null,
      "outputs": []
    },
    {
      "cell_type": "markdown",
      "source": [
        "### Diebold-Mariano Test"
      ],
      "metadata": {
        "id": "jPnMDkb5SeGh"
      }
    },
    {
      "cell_type": "markdown",
      "source": [
        "#### LSTM"
      ],
      "metadata": {
        "id": "FW_PAh_tTqaF"
      }
    },
    {
      "cell_type": "code",
      "source": [
        "rnn = Sequential()\n",
        "rnn.add(LSTM(units=300, activation='relu', return_sequences=True))\n",
        "rnn.add(LSTM(units=300, activation='relu'))\n",
        "rnn.add(Dense(1, activation='linear'))\n",
        "rnn.compile(optimizer='adam', loss='mean_squared_error', batch_size = 64, learning_rate = 0.01, decay = 125)\n",
        "rnn.fit(X_train, y_train, epochs = 250, batch_size = 64)"
      ],
      "metadata": {
        "id": "s_2EnW1TTtNa"
      },
      "execution_count": null,
      "outputs": []
    },
    {
      "cell_type": "markdown",
      "source": [
        "#### Metron - LSTM vs LSTM"
      ],
      "metadata": {
        "id": "rC1xuS73Tuko"
      }
    },
    {
      "cell_type": "code",
      "source": [
        "from arch.bootstrap import MCS\n",
        "\n",
        "# Define the loss differentials between two models\n",
        "loss_diff = model_1_losses - model_2_losses\n",
        "\n",
        "# Perform the DM test\n",
        "dm_test_result = MCS(loss_diff, size=0.05)\n",
        "print(f\"DM Test Result: {dm_test_result}\")"
      ],
      "metadata": {
        "id": "mf8x2LXySj_I"
      },
      "execution_count": null,
      "outputs": []
    },
    {
      "cell_type": "markdown",
      "source": [
        "#### SVM"
      ],
      "metadata": {
        "id": "AHywgLCRT3fh"
      }
    },
    {
      "cell_type": "code",
      "source": [],
      "metadata": {
        "id": "wNfN5pRRT4rx"
      },
      "execution_count": null,
      "outputs": []
    },
    {
      "cell_type": "markdown",
      "source": [
        "#### Metron - LSTM vs SVM"
      ],
      "metadata": {
        "id": "mD9Ja9ZMT47a"
      }
    },
    {
      "cell_type": "code",
      "source": [],
      "metadata": {
        "id": "vvFQQob-T-89"
      },
      "execution_count": null,
      "outputs": []
    },
    {
      "cell_type": "markdown",
      "source": [
        "### Sharpe Ratio"
      ],
      "metadata": {
        "id": "mDlVSusgSlvV"
      }
    },
    {
      "cell_type": "code",
      "source": [
        "avg_return = np.mean(strategy_returns)\n",
        "std_dev_return = np.std(strategy_returns)\n",
        "risk_free_rate = 0.01  # Example risk-free rate\n",
        "\n",
        "sharpe_ratio = (avg_return - risk_free_rate) / std_dev_return\n",
        "print(f\"Sharpe Ratio: {sharpe_ratio}\")"
      ],
      "metadata": {
        "id": "C3DcaHY1Snr7"
      },
      "execution_count": null,
      "outputs": []
    },
    {
      "cell_type": "markdown",
      "source": [
        "### Maximum Drawdown"
      ],
      "metadata": {
        "id": "qAa17FgfSoD1"
      }
    },
    {
      "cell_type": "code",
      "source": [
        "portfolio_value = pd.Series(portfolio_values)\n",
        "peak_value = portfolio_value.cummax()\n",
        "drawdown = (portfolio_value - peak_value) / peak_value\n",
        "max_drawdown = drawdown.min()\n",
        "print(f\"Maximum Drawdown: {max_drawdown}\")"
      ],
      "metadata": {
        "id": "RqoPHWMoSqzL"
      },
      "execution_count": null,
      "outputs": []
    },
    {
      "cell_type": "markdown",
      "source": [
        "### Cumulative Return"
      ],
      "metadata": {
        "id": "IgKFTyfbSq_q"
      }
    },
    {
      "cell_type": "code",
      "source": [
        "initial_value = portfolio_values[0]\n",
        "final_value = portfolio_values[-1]\n",
        "cumulative_return = (final_value / initial_value - 1) * 100\n",
        "print(f\"Cumulative Return: {cumulative_return}%\")"
      ],
      "metadata": {
        "id": "8xtrs3pjStXK"
      },
      "execution_count": null,
      "outputs": []
    },
    {
      "cell_type": "markdown",
      "source": [
        "## Visualization"
      ],
      "metadata": {
        "id": "-ePePwonTR3N"
      }
    },
    {
      "cell_type": "markdown",
      "source": [
        "### Predicted vs Actual CDS Spreads"
      ],
      "metadata": {
        "id": "CFucWr4JTbAw"
      }
    },
    {
      "cell_type": "code",
      "source": [
        "plt.plot(actual_spreads, label=\"Actual Spreads\")\n",
        "plt.plot(predicted_spreads, label=\"Predicted Spreads\")\n",
        "plt.legend()\n",
        "plt.title(\"Actual vs Predicted CDS Spreads\")\n",
        "plt.show()"
      ],
      "metadata": {
        "id": "LbfvGChyTUGk"
      },
      "execution_count": null,
      "outputs": []
    },
    {
      "cell_type": "markdown",
      "source": [
        "### Portfolio Value Over Time\n"
      ],
      "metadata": {
        "id": "3zfFvmweTcJM"
      }
    },
    {
      "cell_type": "code",
      "source": [
        "plt.plot(portfolio_values)\n",
        "plt.title(\"Portfolio Value Over Time\")\n",
        "plt.xlabel(\"Time\")\n",
        "plt.ylabel(\"Portfolio Value\")\n",
        "plt.show()"
      ],
      "metadata": {
        "id": "wN4wyUxwTf68"
      },
      "execution_count": null,
      "outputs": []
    },
    {
      "cell_type": "markdown",
      "source": [
        "### Drawdown Plot"
      ],
      "metadata": {
        "id": "f4yIZg4mTj1T"
      }
    },
    {
      "cell_type": "code",
      "source": [
        "plt.plot(drawdown)\n",
        "plt.title(\"Drawdown Over Time\")\n",
        "plt.show()"
      ],
      "metadata": {
        "id": "S31hah42Thmf"
      },
      "execution_count": null,
      "outputs": []
    }
  ]
}